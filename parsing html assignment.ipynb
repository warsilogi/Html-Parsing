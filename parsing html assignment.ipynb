{
 "cells": [
  {
   "cell_type": "code",
   "execution_count": 5,
   "metadata": {},
   "outputs": [
    {
     "name": "stdout",
     "output_type": "stream",
     "text": [
      "Enter the file name with extension to process: example_html_file.html\n",
      "\n",
      "The entered file name is: example_html_file.html\n",
      "The total number of tags in the file are: 20\n",
      "\n",
      "The tags used are:\n",
      "\n",
      "['html', 'head', 'title', '/title', 'style', '/style', '/head', 'body', 'h1', '/h1', 'p', '/p', 'p class=\"redtext\"', '/p', 'p', 'a href=\"http://google.com\"', '/a', '/p', '/body', '/html']\n"
     ]
    }
   ],
   "source": [
    "def tags(s, open_delim  ='<', \n",
    "                close_delim ='>' ):\n",
    "    while True:\n",
    "\n",
    "          # Search for the next two delimiters in the source text\n",
    "        start = s.find(open_delim)\n",
    "        end   = s.find(close_delim)\n",
    "\n",
    "          # We found a non-empty match\n",
    "        if -1 < start < end:\n",
    "\n",
    "             # Skip the length of the open delimiter\n",
    "            start += len(open_delim)\n",
    "\n",
    "             # Spit out the tag\n",
    "            yield s[start:end].strip()\n",
    "\n",
    "             # Truncate string to start from last match\n",
    "            s = s[end + len(close_delim):]\n",
    "\n",
    "        else:\n",
    "             return\n",
    "\n",
    "file = input(\"Enter the file name with extension to process: \")\n",
    "\n",
    "print(\"\\nThe entered file name is: \" + file)\n",
    "            \n",
    "with open(file, 'r') as file_obj:\n",
    "    content_h = file_obj.read()\n",
    "    a = []\n",
    "    for tag in tags(content_h):\n",
    "        tag.split()\n",
    "        a.append(tag)\n",
    "b = len(a)\n",
    "print(\"The total number of tags in the file are: \" + str(b))\n",
    "print(\"\\nThe tags used are:\\n\")\n",
    "print(a)"
   ]
  },
  {
   "cell_type": "code",
   "execution_count": null,
   "metadata": {},
   "outputs": [],
   "source": []
  }
 ],
 "metadata": {
  "kernelspec": {
   "display_name": "Python 3",
   "language": "python",
   "name": "python3"
  },
  "language_info": {
   "codemirror_mode": {
    "name": "ipython",
    "version": 3
   },
   "file_extension": ".py",
   "mimetype": "text/x-python",
   "name": "python",
   "nbconvert_exporter": "python",
   "pygments_lexer": "ipython3",
   "version": "3.7.3"
  }
 },
 "nbformat": 4,
 "nbformat_minor": 2
}
